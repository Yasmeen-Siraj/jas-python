{
 "cells": [
  {
   "cell_type": "code",
   "execution_count": 25,
   "metadata": {},
   "outputs": [],
   "source": [
    "import selenium\n",
    "from selenium import webdriver \n",
    "\n",
    "chrome_path = r\"C:/Program Files (x86)/chromedriver.exe\"\n",
    "driver = webdriver.Chrome(chrome_path)\n",
    "driver.get(\"http://www.jodidb.org/TableViewer/tableView.aspx?ReportId=93906\")\n"
   ]
  },
  {
   "cell_type": "code",
   "execution_count": 26,
   "metadata": {},
   "outputs": [],
   "source": [
    "Obj=driver.find_element_by_xpath('//*[@id=\"MainTable\"]')"
   ]
  },
  {
   "cell_type": "code",
   "execution_count": 28,
   "metadata": {},
   "outputs": [
    {
     "data": {
      "text/plain": [
       "'    Time   Aug2019 Sep2019 Oct2019 Nov2019 Dec2019 Jan2020 Feb2020 Mar2020 Apr2020 May2020 Jun2020 Jul2020 Aug2020 Sep2020 Oct2020\\n    Country                                \\nAlbania 0 0 0 0 0 0 0 0 0 0 0 0 0 0 0\\nAlgeria 0 1,024 1,023 1,026 1,021 1,011 1,009 1,033 1,004 812 807 809 859 861 860\\nAngola 1,328 1,369 1,391 1,273 1,369 1,414 1,387 1,404 1,352 1,222 1,230 1,275 1,266 1,216 1,194\\nArgentina 599 514 511 515 498 517 513 422 458 508 585 599 0 0 0\\nArmenia 0 0 0 0 0 0 0 0 0 0 0 0 0 0 0\\nAustralia 357 350 388 368 366 324 298 356 359 308 326 312 337 316 329\\nAustria 13 13 12 13 12 12 12 2 11 12 12 12 11 11 0\\nAzerbaijan 679 674 636 674 672 669 658 675 684 573 564 563 586 596 579\\nBahrain 201 205 206 206 199 144 201 207 214 208 210 208 210 169 0\\nBangladesh 0 0 0 0 0 0 0 0 0 0 0 0 0 0 0\\nBarbados 0 0 0 0 0 0 0 0 0 0 0 0 0 0 0\\nBelarus 33 34 34 34 34 33 34 35 33 34 35 34 34 35 0\\nBelgium 0 0 0 0 0 0 0 0 0 0 0 0 0 0 0\\nBelize 0 0 0 0 0 0 0 0 0 0 0 0 0 0 0\\nBermuda 0 0 0 0 0 0 0 0 0 0 0 0 0 0 0\\nBolivia 0 0 0 0 0 0 0 0 0 0 0 0 0 0 0\\nBrazil 2,994 2,932 2,968 3,095 3,111 3,172 2,976 2,978 2,963 2,768 3,018 3,082 3,092 2,912 2,879'"
      ]
     },
     "execution_count": 28,
     "metadata": {},
     "output_type": "execute_result"
    }
   ],
   "source": [
    "Obj.text"
   ]
  },
  {
   "cell_type": "code",
   "execution_count": 29,
   "metadata": {},
   "outputs": [],
   "source": [
    "clickObj=driver.find_element_by_xpath('//*[@id=\"MainTable\"]')\n"
   ]
  },
  {
   "cell_type": "code",
   "execution_count": 30,
   "metadata": {},
   "outputs": [
    {
     "data": {
      "text/plain": [
       "'    Time   Aug2019 Sep2019 Oct2019 Nov2019 Dec2019 Jan2020 Feb2020 Mar2020 Apr2020 May2020 Jun2020 Jul2020 Aug2020 Sep2020 Oct2020\\n    Country                                \\nAlbania 0 0 0 0 0 0 0 0 0 0 0 0 0 0 0\\nAlgeria 0 1,024 1,023 1,026 1,021 1,011 1,009 1,033 1,004 812 807 809 859 861 860\\nAngola 1,328 1,369 1,391 1,273 1,369 1,414 1,387 1,404 1,352 1,222 1,230 1,275 1,266 1,216 1,194\\nArgentina 599 514 511 515 498 517 513 422 458 508 585 599 0 0 0\\nArmenia 0 0 0 0 0 0 0 0 0 0 0 0 0 0 0\\nAustralia 357 350 388 368 366 324 298 356 359 308 326 312 337 316 329\\nAustria 13 13 12 13 12 12 12 2 11 12 12 12 11 11 0\\nAzerbaijan 679 674 636 674 672 669 658 675 684 573 564 563 586 596 579\\nBahrain 201 205 206 206 199 144 201 207 214 208 210 208 210 169 0\\nBangladesh 0 0 0 0 0 0 0 0 0 0 0 0 0 0 0\\nBarbados 0 0 0 0 0 0 0 0 0 0 0 0 0 0 0\\nBelarus 33 34 34 34 34 33 34 35 33 34 35 34 34 35 0\\nBelgium 0 0 0 0 0 0 0 0 0 0 0 0 0 0 0\\nBelize 0 0 0 0 0 0 0 0 0 0 0 0 0 0 0\\nBermuda 0 0 0 0 0 0 0 0 0 0 0 0 0 0 0\\nBolivia 0 0 0 0 0 0 0 0 0 0 0 0 0 0 0\\nBrazil 2,994 2,932 2,968 3,095 3,111 3,172 2,976 2,978 2,963 2,768 3,018 3,082 3,092 2,912 2,879'"
      ]
     },
     "execution_count": 30,
     "metadata": {},
     "output_type": "execute_result"
    }
   ],
   "source": [
    "clickObj.text"
   ]
  },
  {
   "cell_type": "code",
   "execution_count": 31,
   "metadata": {},
   "outputs": [
    {
     "data": {
      "text/plain": [
       "[<selenium.webdriver.remote.webelement.WebElement (session=\"cc4d7e790c5cc6e17260129dc55094a2\", element=\"aaf2db05-a70d-4a02-b9ff-b9ecf2af60ef\")>,\n",
       " <selenium.webdriver.remote.webelement.WebElement (session=\"cc4d7e790c5cc6e17260129dc55094a2\", element=\"30cf5372-26dc-4182-8d98-185e1a02ee70\")>,\n",
       " <selenium.webdriver.remote.webelement.WebElement (session=\"cc4d7e790c5cc6e17260129dc55094a2\", element=\"c354897d-3b81-4bb8-a397-6ef150b60d5f\")>,\n",
       " <selenium.webdriver.remote.webelement.WebElement (session=\"cc4d7e790c5cc6e17260129dc55094a2\", element=\"5562c103-c120-4622-b01d-c5e9fc4c8aca\")>,\n",
       " <selenium.webdriver.remote.webelement.WebElement (session=\"cc4d7e790c5cc6e17260129dc55094a2\", element=\"c605f79b-7053-4428-a3c4-abde0d9eb56c\")>,\n",
       " <selenium.webdriver.remote.webelement.WebElement (session=\"cc4d7e790c5cc6e17260129dc55094a2\", element=\"f0055267-1f48-4b45-8dd7-af478fff0444\")>,\n",
       " <selenium.webdriver.remote.webelement.WebElement (session=\"cc4d7e790c5cc6e17260129dc55094a2\", element=\"5903a901-31fa-4f2a-b848-9f1521921fd7\")>,\n",
       " <selenium.webdriver.remote.webelement.WebElement (session=\"cc4d7e790c5cc6e17260129dc55094a2\", element=\"bd59130c-2b1d-44bb-aa52-d01fdabbfb3d\")>,\n",
       " <selenium.webdriver.remote.webelement.WebElement (session=\"cc4d7e790c5cc6e17260129dc55094a2\", element=\"a88463e8-6d48-494f-8f3e-c3cb325a8971\")>,\n",
       " <selenium.webdriver.remote.webelement.WebElement (session=\"cc4d7e790c5cc6e17260129dc55094a2\", element=\"4c52d863-73cc-499d-a2dc-6546b7a078c5\")>,\n",
       " <selenium.webdriver.remote.webelement.WebElement (session=\"cc4d7e790c5cc6e17260129dc55094a2\", element=\"a0e122a9-7674-4949-86c1-3612c29e757c\")>,\n",
       " <selenium.webdriver.remote.webelement.WebElement (session=\"cc4d7e790c5cc6e17260129dc55094a2\", element=\"38c78cb9-8f81-4464-a802-2f4d4aafd045\")>,\n",
       " <selenium.webdriver.remote.webelement.WebElement (session=\"cc4d7e790c5cc6e17260129dc55094a2\", element=\"fea7312f-bf27-4f72-9704-f4051e5ee3df\")>,\n",
       " <selenium.webdriver.remote.webelement.WebElement (session=\"cc4d7e790c5cc6e17260129dc55094a2\", element=\"dbc12b2d-0530-4c58-a25e-1d1515b6922d\")>,\n",
       " <selenium.webdriver.remote.webelement.WebElement (session=\"cc4d7e790c5cc6e17260129dc55094a2\", element=\"4d8ce2e5-61fe-4a1d-b9a9-04f9f0a34354\")>]"
      ]
     },
     "execution_count": 31,
     "metadata": {},
     "output_type": "execute_result"
    }
   ],
   "source": [
    "driver.find_elements_by_class_name('TVItemColHeader')"
   ]
  },
  {
   "cell_type": "code",
   "execution_count": 32,
   "metadata": {},
   "outputs": [],
   "source": [
    "col_headers=driver.find_elements_by_class_name('TVItemColHeader')"
   ]
  },
  {
   "cell_type": "code",
   "execution_count": 33,
   "metadata": {
    "scrolled": true
   },
   "outputs": [
    {
     "name": "stdout",
     "output_type": "stream",
     "text": [
      "['Aug2019', 'Sep2019', 'Oct2019', 'Nov2019', 'Dec2019', 'Jan2020', 'Feb2020', 'Mar2020', 'Apr2020', 'May2020', 'Jun2020', 'Jul2020', 'Aug2020', 'Sep2020', 'Oct2020']\n"
     ]
    }
   ],
   "source": [
    "col_headers_list=[]\n",
    "for h in col_headers:\n",
    "    h =h.text\n",
    "    col_headers_list.append(h)\n",
    "    \n",
    "print(col_headers_list)"
   ]
  },
  {
   "cell_type": "code",
   "execution_count": 34,
   "metadata": {},
   "outputs": [
    {
     "data": {
      "text/plain": [
       "'Aug2019'"
      ]
     },
     "execution_count": 34,
     "metadata": {},
     "output_type": "execute_result"
    }
   ],
   "source": [
    "col_headers[0].text"
   ]
  },
  {
   "cell_type": "code",
   "execution_count": null,
   "metadata": {},
   "outputs": [],
   "source": []
  },
  {
   "cell_type": "code",
   "execution_count": 35,
   "metadata": {},
   "outputs": [
    {
     "data": {
      "text/plain": [
       "[<selenium.webdriver.remote.webelement.WebElement (session=\"cc4d7e790c5cc6e17260129dc55094a2\", element=\"a5b91107-b5d8-4b2a-9369-b1429b04e4ed\")>,\n",
       " <selenium.webdriver.remote.webelement.WebElement (session=\"cc4d7e790c5cc6e17260129dc55094a2\", element=\"e8404c16-bb5a-47ba-a565-195f3c5b9e67\")>,\n",
       " <selenium.webdriver.remote.webelement.WebElement (session=\"cc4d7e790c5cc6e17260129dc55094a2\", element=\"0b60c693-9ef6-4a22-9e37-1a09bafa79a9\")>,\n",
       " <selenium.webdriver.remote.webelement.WebElement (session=\"cc4d7e790c5cc6e17260129dc55094a2\", element=\"5493d970-2904-40ca-b360-b7a334470553\")>,\n",
       " <selenium.webdriver.remote.webelement.WebElement (session=\"cc4d7e790c5cc6e17260129dc55094a2\", element=\"809a0fe9-626c-49a8-a027-23e07c2fe7fe\")>,\n",
       " <selenium.webdriver.remote.webelement.WebElement (session=\"cc4d7e790c5cc6e17260129dc55094a2\", element=\"bb00aeef-9a86-4f18-ae39-f228d15364d5\")>,\n",
       " <selenium.webdriver.remote.webelement.WebElement (session=\"cc4d7e790c5cc6e17260129dc55094a2\", element=\"f26966d6-4a18-4b93-af8b-3fa8653ffe6d\")>,\n",
       " <selenium.webdriver.remote.webelement.WebElement (session=\"cc4d7e790c5cc6e17260129dc55094a2\", element=\"7be363e5-7a01-40a6-93f3-568168911938\")>,\n",
       " <selenium.webdriver.remote.webelement.WebElement (session=\"cc4d7e790c5cc6e17260129dc55094a2\", element=\"d863822e-0006-41cf-9ba4-de15e47992a0\")>,\n",
       " <selenium.webdriver.remote.webelement.WebElement (session=\"cc4d7e790c5cc6e17260129dc55094a2\", element=\"d711973f-9cdf-4b4e-b12d-638271165504\")>,\n",
       " <selenium.webdriver.remote.webelement.WebElement (session=\"cc4d7e790c5cc6e17260129dc55094a2\", element=\"a92cbfd4-3457-4339-b33e-5b3b3b9c0892\")>,\n",
       " <selenium.webdriver.remote.webelement.WebElement (session=\"cc4d7e790c5cc6e17260129dc55094a2\", element=\"96ce8935-3775-4bc4-9823-6b20184391d8\")>,\n",
       " <selenium.webdriver.remote.webelement.WebElement (session=\"cc4d7e790c5cc6e17260129dc55094a2\", element=\"9fc67632-07e1-4df1-8bf1-670564426854\")>,\n",
       " <selenium.webdriver.remote.webelement.WebElement (session=\"cc4d7e790c5cc6e17260129dc55094a2\", element=\"34729bae-8cb7-41a3-afe9-9fb533c2a913\")>,\n",
       " <selenium.webdriver.remote.webelement.WebElement (session=\"cc4d7e790c5cc6e17260129dc55094a2\", element=\"d2c30d2c-3f52-4d49-bc96-9fe88fe5a702\")>,\n",
       " <selenium.webdriver.remote.webelement.WebElement (session=\"cc4d7e790c5cc6e17260129dc55094a2\", element=\"15711683-789b-44b1-b1be-5aeea0f0c60f\")>,\n",
       " <selenium.webdriver.remote.webelement.WebElement (session=\"cc4d7e790c5cc6e17260129dc55094a2\", element=\"ea9e08a4-c6a9-45f7-a8bc-d369b64d8529\")>]"
      ]
     },
     "execution_count": 35,
     "metadata": {},
     "output_type": "execute_result"
    }
   ],
   "source": [
    "driver.find_elements_by_class_name('TVItemRowHeader')"
   ]
  },
  {
   "cell_type": "code",
   "execution_count": 37,
   "metadata": {},
   "outputs": [
    {
     "data": {
      "text/plain": [
       "[<selenium.webdriver.remote.webelement.WebElement (session=\"cc4d7e790c5cc6e17260129dc55094a2\", element=\"a5b91107-b5d8-4b2a-9369-b1429b04e4ed\")>,\n",
       " <selenium.webdriver.remote.webelement.WebElement (session=\"cc4d7e790c5cc6e17260129dc55094a2\", element=\"e8404c16-bb5a-47ba-a565-195f3c5b9e67\")>,\n",
       " <selenium.webdriver.remote.webelement.WebElement (session=\"cc4d7e790c5cc6e17260129dc55094a2\", element=\"0b60c693-9ef6-4a22-9e37-1a09bafa79a9\")>,\n",
       " <selenium.webdriver.remote.webelement.WebElement (session=\"cc4d7e790c5cc6e17260129dc55094a2\", element=\"5493d970-2904-40ca-b360-b7a334470553\")>,\n",
       " <selenium.webdriver.remote.webelement.WebElement (session=\"cc4d7e790c5cc6e17260129dc55094a2\", element=\"809a0fe9-626c-49a8-a027-23e07c2fe7fe\")>,\n",
       " <selenium.webdriver.remote.webelement.WebElement (session=\"cc4d7e790c5cc6e17260129dc55094a2\", element=\"bb00aeef-9a86-4f18-ae39-f228d15364d5\")>,\n",
       " <selenium.webdriver.remote.webelement.WebElement (session=\"cc4d7e790c5cc6e17260129dc55094a2\", element=\"f26966d6-4a18-4b93-af8b-3fa8653ffe6d\")>,\n",
       " <selenium.webdriver.remote.webelement.WebElement (session=\"cc4d7e790c5cc6e17260129dc55094a2\", element=\"7be363e5-7a01-40a6-93f3-568168911938\")>,\n",
       " <selenium.webdriver.remote.webelement.WebElement (session=\"cc4d7e790c5cc6e17260129dc55094a2\", element=\"d863822e-0006-41cf-9ba4-de15e47992a0\")>,\n",
       " <selenium.webdriver.remote.webelement.WebElement (session=\"cc4d7e790c5cc6e17260129dc55094a2\", element=\"d711973f-9cdf-4b4e-b12d-638271165504\")>,\n",
       " <selenium.webdriver.remote.webelement.WebElement (session=\"cc4d7e790c5cc6e17260129dc55094a2\", element=\"a92cbfd4-3457-4339-b33e-5b3b3b9c0892\")>,\n",
       " <selenium.webdriver.remote.webelement.WebElement (session=\"cc4d7e790c5cc6e17260129dc55094a2\", element=\"96ce8935-3775-4bc4-9823-6b20184391d8\")>,\n",
       " <selenium.webdriver.remote.webelement.WebElement (session=\"cc4d7e790c5cc6e17260129dc55094a2\", element=\"9fc67632-07e1-4df1-8bf1-670564426854\")>,\n",
       " <selenium.webdriver.remote.webelement.WebElement (session=\"cc4d7e790c5cc6e17260129dc55094a2\", element=\"34729bae-8cb7-41a3-afe9-9fb533c2a913\")>,\n",
       " <selenium.webdriver.remote.webelement.WebElement (session=\"cc4d7e790c5cc6e17260129dc55094a2\", element=\"d2c30d2c-3f52-4d49-bc96-9fe88fe5a702\")>,\n",
       " <selenium.webdriver.remote.webelement.WebElement (session=\"cc4d7e790c5cc6e17260129dc55094a2\", element=\"15711683-789b-44b1-b1be-5aeea0f0c60f\")>,\n",
       " <selenium.webdriver.remote.webelement.WebElement (session=\"cc4d7e790c5cc6e17260129dc55094a2\", element=\"ea9e08a4-c6a9-45f7-a8bc-d369b64d8529\")>]"
      ]
     },
     "execution_count": 37,
     "metadata": {},
     "output_type": "execute_result"
    }
   ],
   "source": [
    "driver.find_elements_by_class_name('TVItemRowHeader')"
   ]
  },
  {
   "cell_type": "code",
   "execution_count": 38,
   "metadata": {},
   "outputs": [],
   "source": [
    "row_headers=driver.find_elements_by_class_name('TVItemRowHeader')"
   ]
  },
  {
   "cell_type": "code",
   "execution_count": 39,
   "metadata": {},
   "outputs": [
    {
     "name": "stdout",
     "output_type": "stream",
     "text": [
      "['Albania', 'Algeria', 'Angola', 'Argentina', 'Armenia', 'Australia', 'Austria', 'Azerbaijan', 'Bahrain', 'Bangladesh', 'Barbados', 'Belarus', 'Belgium', 'Belize', 'Bermuda', 'Bolivia', 'Brazil']\n"
     ]
    }
   ],
   "source": [
    "row_headers_list=[]\n",
    "for r in row_headers:\n",
    "    r =r.text\n",
    "    row_headers_list.append(r)\n",
    "    \n",
    "print(row_headers_list)"
   ]
  },
  {
   "cell_type": "code",
   "execution_count": 40,
   "metadata": {},
   "outputs": [
    {
     "data": {
      "text/plain": [
       "'Belgium'"
      ]
     },
     "execution_count": 40,
     "metadata": {},
     "output_type": "execute_result"
    }
   ],
   "source": [
    "row_headers[12].text"
   ]
  },
  {
   "cell_type": "code",
   "execution_count": 42,
   "metadata": {},
   "outputs": [],
   "source": [
    "//*[@id=\"DataTable\"]/tbody/tr[1]/td[1]/nobr\n",
    "\n",
    "//*[@id=\"DataTable\"]/tbody/tr[1]/td[2]/nobr\n",
    "\n",
    "//*[@id=\"DataTable\"]/tbody/tr[3]/td[1]/nobr\n"
   ]
  },
  {
   "cell_type": "code",
   "execution_count": 56,
   "metadata": {},
   "outputs": [
    {
     "data": {
      "text/plain": [
       "[<selenium.webdriver.remote.webelement.WebElement (session=\"cc4d7e790c5cc6e17260129dc55094a2\", element=\"f0d93fd7-5460-43dd-b409-f981ee32a2af\")>,\n",
       " <selenium.webdriver.remote.webelement.WebElement (session=\"cc4d7e790c5cc6e17260129dc55094a2\", element=\"1f7961bd-c90e-454e-ac25-29b649e4b545\")>,\n",
       " <selenium.webdriver.remote.webelement.WebElement (session=\"cc4d7e790c5cc6e17260129dc55094a2\", element=\"7d73d6b5-7fea-4830-aa9f-f9ebcba6565a\")>,\n",
       " <selenium.webdriver.remote.webelement.WebElement (session=\"cc4d7e790c5cc6e17260129dc55094a2\", element=\"1eeb3e25-0e72-4e05-8f0d-9d89c50f4009\")>,\n",
       " <selenium.webdriver.remote.webelement.WebElement (session=\"cc4d7e790c5cc6e17260129dc55094a2\", element=\"dde4fb44-787c-42fa-b722-8386914a2cc0\")>,\n",
       " <selenium.webdriver.remote.webelement.WebElement (session=\"cc4d7e790c5cc6e17260129dc55094a2\", element=\"00b9710a-0d1e-451c-b7b0-404d45313f26\")>,\n",
       " <selenium.webdriver.remote.webelement.WebElement (session=\"cc4d7e790c5cc6e17260129dc55094a2\", element=\"2774f760-2907-41c4-86ed-705ac3d44d9b\")>,\n",
       " <selenium.webdriver.remote.webelement.WebElement (session=\"cc4d7e790c5cc6e17260129dc55094a2\", element=\"358defdf-cd51-4f40-b098-562ee3512b81\")>,\n",
       " <selenium.webdriver.remote.webelement.WebElement (session=\"cc4d7e790c5cc6e17260129dc55094a2\", element=\"aaaf017e-1dec-4f4b-9dee-92ff444f71d4\")>,\n",
       " <selenium.webdriver.remote.webelement.WebElement (session=\"cc4d7e790c5cc6e17260129dc55094a2\", element=\"f7c24daf-41a9-40a9-8198-213f91b3c625\")>,\n",
       " <selenium.webdriver.remote.webelement.WebElement (session=\"cc4d7e790c5cc6e17260129dc55094a2\", element=\"1ff950e1-57fe-47fb-9fed-1547304c7d86\")>,\n",
       " <selenium.webdriver.remote.webelement.WebElement (session=\"cc4d7e790c5cc6e17260129dc55094a2\", element=\"0ad851ba-6a69-41a3-a609-c9061902f9e8\")>,\n",
       " <selenium.webdriver.remote.webelement.WebElement (session=\"cc4d7e790c5cc6e17260129dc55094a2\", element=\"93178dc0-e0b4-412a-89c9-2255eb4baf5f\")>,\n",
       " <selenium.webdriver.remote.webelement.WebElement (session=\"cc4d7e790c5cc6e17260129dc55094a2\", element=\"60abb2e6-6726-4f2d-8cb2-424cfb27563a\")>,\n",
       " <selenium.webdriver.remote.webelement.WebElement (session=\"cc4d7e790c5cc6e17260129dc55094a2\", element=\"449388e7-243c-4d43-a1f6-a85f9a51c616\")>,\n",
       " <selenium.webdriver.remote.webelement.WebElement (session=\"cc4d7e790c5cc6e17260129dc55094a2\", element=\"993e593d-4035-46ad-bd68-b89f873a8250\")>,\n",
       " <selenium.webdriver.remote.webelement.WebElement (session=\"cc4d7e790c5cc6e17260129dc55094a2\", element=\"054f6eab-a9ff-4848-97bc-57409aeb306a\")>,\n",
       " <selenium.webdriver.remote.webelement.WebElement (session=\"cc4d7e790c5cc6e17260129dc55094a2\", element=\"e06e62c1-95bf-402f-bb22-668afee559ab\")>,\n",
       " <selenium.webdriver.remote.webelement.WebElement (session=\"cc4d7e790c5cc6e17260129dc55094a2\", element=\"9616a5c5-1d4f-4d21-94c1-1d7d3a413a1b\")>,\n",
       " <selenium.webdriver.remote.webelement.WebElement (session=\"cc4d7e790c5cc6e17260129dc55094a2\", element=\"33965877-2209-4dc9-95c6-5c51dc8cde1d\")>,\n",
       " <selenium.webdriver.remote.webelement.WebElement (session=\"cc4d7e790c5cc6e17260129dc55094a2\", element=\"4f96f2b7-5368-4865-bd45-fcdc3b1f6125\")>,\n",
       " <selenium.webdriver.remote.webelement.WebElement (session=\"cc4d7e790c5cc6e17260129dc55094a2\", element=\"27b5641d-3a02-4e68-8353-d6f0d16e0517\")>,\n",
       " <selenium.webdriver.remote.webelement.WebElement (session=\"cc4d7e790c5cc6e17260129dc55094a2\", element=\"262fba28-f1b5-4639-9762-3dd484c4fcd8\")>,\n",
       " <selenium.webdriver.remote.webelement.WebElement (session=\"cc4d7e790c5cc6e17260129dc55094a2\", element=\"e97c6bc1-bcb2-4419-bb74-ceee8e6a17f6\")>,\n",
       " <selenium.webdriver.remote.webelement.WebElement (session=\"cc4d7e790c5cc6e17260129dc55094a2\", element=\"7e91401c-89f0-4278-8ece-110681dd3832\")>,\n",
       " <selenium.webdriver.remote.webelement.WebElement (session=\"cc4d7e790c5cc6e17260129dc55094a2\", element=\"01004fea-b253-451a-ac6e-855712aac2dc\")>,\n",
       " <selenium.webdriver.remote.webelement.WebElement (session=\"cc4d7e790c5cc6e17260129dc55094a2\", element=\"e4bc01af-fae2-449f-ba49-c9a1bb5e1f71\")>,\n",
       " <selenium.webdriver.remote.webelement.WebElement (session=\"cc4d7e790c5cc6e17260129dc55094a2\", element=\"7bc62767-6d5a-4bb5-8aa3-2b10cc70c65f\")>,\n",
       " <selenium.webdriver.remote.webelement.WebElement (session=\"cc4d7e790c5cc6e17260129dc55094a2\", element=\"524ceece-6cc7-4ff1-97dc-99fdf77cc964\")>,\n",
       " <selenium.webdriver.remote.webelement.WebElement (session=\"cc4d7e790c5cc6e17260129dc55094a2\", element=\"09d9ed0d-6b7c-46a7-b034-09e931211a4e\")>,\n",
       " <selenium.webdriver.remote.webelement.WebElement (session=\"cc4d7e790c5cc6e17260129dc55094a2\", element=\"65112616-d85e-4d27-87ef-6c1833190e95\")>,\n",
       " <selenium.webdriver.remote.webelement.WebElement (session=\"cc4d7e790c5cc6e17260129dc55094a2\", element=\"e5de8c2a-cb72-49a7-a901-4d500b3ad65f\")>,\n",
       " <selenium.webdriver.remote.webelement.WebElement (session=\"cc4d7e790c5cc6e17260129dc55094a2\", element=\"9197f201-bc74-4d00-89d9-f703d0edc00f\")>,\n",
       " <selenium.webdriver.remote.webelement.WebElement (session=\"cc4d7e790c5cc6e17260129dc55094a2\", element=\"3b0af7ac-9efe-4edc-86b7-60fb6f1e407e\")>,\n",
       " <selenium.webdriver.remote.webelement.WebElement (session=\"cc4d7e790c5cc6e17260129dc55094a2\", element=\"315ce510-8ea9-4d43-bb1f-587a40427039\")>,\n",
       " <selenium.webdriver.remote.webelement.WebElement (session=\"cc4d7e790c5cc6e17260129dc55094a2\", element=\"85bbe435-c775-42ed-83e5-a24bb630f4ce\")>,\n",
       " <selenium.webdriver.remote.webelement.WebElement (session=\"cc4d7e790c5cc6e17260129dc55094a2\", element=\"0011a226-97de-4013-99f9-b998b95be9e9\")>,\n",
       " <selenium.webdriver.remote.webelement.WebElement (session=\"cc4d7e790c5cc6e17260129dc55094a2\", element=\"07c107e8-dde2-4975-b8f2-29a62d0c8f2a\")>,\n",
       " <selenium.webdriver.remote.webelement.WebElement (session=\"cc4d7e790c5cc6e17260129dc55094a2\", element=\"f740bcf9-c9f1-4811-ba64-d7b8f037db38\")>,\n",
       " <selenium.webdriver.remote.webelement.WebElement (session=\"cc4d7e790c5cc6e17260129dc55094a2\", element=\"69fa2e2f-1228-40ed-b121-6232a0efaff2\")>,\n",
       " <selenium.webdriver.remote.webelement.WebElement (session=\"cc4d7e790c5cc6e17260129dc55094a2\", element=\"e433e482-e4ef-42f3-b6ed-4b7f9d4a09f4\")>,\n",
       " <selenium.webdriver.remote.webelement.WebElement (session=\"cc4d7e790c5cc6e17260129dc55094a2\", element=\"8e6aedeb-5bd0-4c66-a5a8-c21c50112bc5\")>,\n",
       " <selenium.webdriver.remote.webelement.WebElement (session=\"cc4d7e790c5cc6e17260129dc55094a2\", element=\"21e35ae0-850c-43ab-a32e-d809cc954b8c\")>,\n",
       " <selenium.webdriver.remote.webelement.WebElement (session=\"cc4d7e790c5cc6e17260129dc55094a2\", element=\"f04b9a5b-b8e4-47c9-97d7-2ebfdea0d38c\")>,\n",
       " <selenium.webdriver.remote.webelement.WebElement (session=\"cc4d7e790c5cc6e17260129dc55094a2\", element=\"8239aad7-6eba-4624-861e-a52cf7e83f36\")>,\n",
       " <selenium.webdriver.remote.webelement.WebElement (session=\"cc4d7e790c5cc6e17260129dc55094a2\", element=\"9a07e26e-db23-4e8a-b230-7d5799c3ae89\")>,\n",
       " <selenium.webdriver.remote.webelement.WebElement (session=\"cc4d7e790c5cc6e17260129dc55094a2\", element=\"117f8081-e558-4fb7-a1d7-286acf40a466\")>,\n",
       " <selenium.webdriver.remote.webelement.WebElement (session=\"cc4d7e790c5cc6e17260129dc55094a2\", element=\"9c90742a-60b2-4026-802e-83c5a585f467\")>,\n",
       " <selenium.webdriver.remote.webelement.WebElement (session=\"cc4d7e790c5cc6e17260129dc55094a2\", element=\"d8986345-7825-4083-b7eb-7b97df8faef3\")>,\n",
       " <selenium.webdriver.remote.webelement.WebElement (session=\"cc4d7e790c5cc6e17260129dc55094a2\", element=\"9fa10614-6f9a-407b-94bc-d8e67251d4e2\")>,\n",
       " <selenium.webdriver.remote.webelement.WebElement (session=\"cc4d7e790c5cc6e17260129dc55094a2\", element=\"29dc2c69-b4b3-40b9-b350-c7bce237c075\")>,\n",
       " <selenium.webdriver.remote.webelement.WebElement (session=\"cc4d7e790c5cc6e17260129dc55094a2\", element=\"ec71acc1-959d-44f5-949b-c9c16ae53d7c\")>,\n",
       " <selenium.webdriver.remote.webelement.WebElement (session=\"cc4d7e790c5cc6e17260129dc55094a2\", element=\"fa367ea4-c465-48e4-b910-41ce72d00b46\")>,\n",
       " <selenium.webdriver.remote.webelement.WebElement (session=\"cc4d7e790c5cc6e17260129dc55094a2\", element=\"3c8ae89b-46b7-4bd7-8e7f-722230321f33\")>,\n",
       " <selenium.webdriver.remote.webelement.WebElement (session=\"cc4d7e790c5cc6e17260129dc55094a2\", element=\"ca413a24-9de1-46cc-a197-75d3978b0316\")>,\n",
       " <selenium.webdriver.remote.webelement.WebElement (session=\"cc4d7e790c5cc6e17260129dc55094a2\", element=\"85452ef3-9ce6-4899-9d5e-a8be1defc169\")>,\n",
       " <selenium.webdriver.remote.webelement.WebElement (session=\"cc4d7e790c5cc6e17260129dc55094a2\", element=\"1aafe0cc-430f-4867-b825-6f966d92658e\")>,\n",
       " <selenium.webdriver.remote.webelement.WebElement (session=\"cc4d7e790c5cc6e17260129dc55094a2\", element=\"ac5f3b67-ab44-45c7-bc8e-a006739348d8\")>,\n",
       " <selenium.webdriver.remote.webelement.WebElement (session=\"cc4d7e790c5cc6e17260129dc55094a2\", element=\"fe2dd1e6-ff98-46af-8789-587327635d2f\")>,\n",
       " <selenium.webdriver.remote.webelement.WebElement (session=\"cc4d7e790c5cc6e17260129dc55094a2\", element=\"1fe89fb7-1ec2-4ed1-88fa-24b0bd35a62e\")>,\n",
       " <selenium.webdriver.remote.webelement.WebElement (session=\"cc4d7e790c5cc6e17260129dc55094a2\", element=\"436054de-0bd6-46f6-aed9-ca3c9d5fcfc1\")>,\n",
       " <selenium.webdriver.remote.webelement.WebElement (session=\"cc4d7e790c5cc6e17260129dc55094a2\", element=\"13905b42-1079-4e8c-855a-46f044d92813\")>,\n",
       " <selenium.webdriver.remote.webelement.WebElement (session=\"cc4d7e790c5cc6e17260129dc55094a2\", element=\"777fe332-6ff8-4202-8d07-ee97ffc4e15a\")>,\n",
       " <selenium.webdriver.remote.webelement.WebElement (session=\"cc4d7e790c5cc6e17260129dc55094a2\", element=\"24d17967-2a5d-46d6-83db-be7ad4aa5d50\")>,\n",
       " <selenium.webdriver.remote.webelement.WebElement (session=\"cc4d7e790c5cc6e17260129dc55094a2\", element=\"952a5577-c8d7-46a2-ab62-644084efe094\")>,\n",
       " <selenium.webdriver.remote.webelement.WebElement (session=\"cc4d7e790c5cc6e17260129dc55094a2\", element=\"6a8598f7-f6b9-4d0d-a6bd-650db0a31a48\")>,\n",
       " <selenium.webdriver.remote.webelement.WebElement (session=\"cc4d7e790c5cc6e17260129dc55094a2\", element=\"6c6a4e42-cea5-485a-95fa-6752bb96258e\")>,\n",
       " <selenium.webdriver.remote.webelement.WebElement (session=\"cc4d7e790c5cc6e17260129dc55094a2\", element=\"e51af80b-a513-4e59-8ca9-0ca076012c58\")>,\n",
       " <selenium.webdriver.remote.webelement.WebElement (session=\"cc4d7e790c5cc6e17260129dc55094a2\", element=\"08cfd229-d59b-4e14-8bc4-17aa5a5e13e0\")>,\n",
       " <selenium.webdriver.remote.webelement.WebElement (session=\"cc4d7e790c5cc6e17260129dc55094a2\", element=\"f41dd9d2-8a4c-4a05-a90b-c1d9ecd80b57\")>,\n",
       " <selenium.webdriver.remote.webelement.WebElement (session=\"cc4d7e790c5cc6e17260129dc55094a2\", element=\"7b97b08f-3cd4-4041-bd22-08d207d6d6d5\")>,\n",
       " <selenium.webdriver.remote.webelement.WebElement (session=\"cc4d7e790c5cc6e17260129dc55094a2\", element=\"e406c15c-746c-4378-acda-db56a98e10d2\")>,\n",
       " <selenium.webdriver.remote.webelement.WebElement (session=\"cc4d7e790c5cc6e17260129dc55094a2\", element=\"e991d1d3-7fa2-47d2-b39b-fecb5dbdd06d\")>,\n",
       " <selenium.webdriver.remote.webelement.WebElement (session=\"cc4d7e790c5cc6e17260129dc55094a2\", element=\"88444e51-9c7f-4261-9c53-13a06229c193\")>,\n",
       " <selenium.webdriver.remote.webelement.WebElement (session=\"cc4d7e790c5cc6e17260129dc55094a2\", element=\"db45d280-bfa2-4c99-9068-056199e169eb\")>,\n",
       " <selenium.webdriver.remote.webelement.WebElement (session=\"cc4d7e790c5cc6e17260129dc55094a2\", element=\"3086c3e0-94dc-4f60-bdc0-c92815e960dd\")>]"
      ]
     },
     "execution_count": 56,
     "metadata": {},
     "output_type": "execute_result"
    }
   ],
   "source": [
    "driver.find_elements_by_class_name('CellColoring0')\n"
   ]
  },
  {
   "cell_type": "code",
   "execution_count": 60,
   "metadata": {},
   "outputs": [],
   "source": [
    "cell_data=driver.find_elements_by_class_name('CellColoring0')"
   ]
  },
  {
   "cell_type": "code",
   "execution_count": 62,
   "metadata": {},
   "outputs": [
    {
     "name": "stdout",
     "output_type": "stream",
     "text": [
      "['1,024', '1,023', '1,026', '1,021', '1,011', '1,009', '1,033', '1,004', '812', '807', '809', '859', '861', '860', '1,194', '514', '511', '515', '498', '517', '513', '508', '585', '357', '350', '388', '368', '366', '324', '298', '356', '359', '308', '326', '312', '337', '316', '329', '13', '13', '12', '13', '12', '12', '12', '2', '11', '12', '12', '12', '0', '0', '0', '0', '0', '0', '0', '0', '0', '0', '0', '0', '0', '0', '0', '2,994', '2,932', '2,968', '3,095', '2,976', '2,978', '2,963', '2,768', '3,018', '2,912', '2,879']\n"
     ]
    }
   ],
   "source": [
    "cell_data_list=[]\n",
    "for d in cell_data:\n",
    "    d =d.text\n",
    "    cell_data_list.append(d)\n",
    "    \n",
    "print(cell_data_list)"
   ]
  },
  {
   "cell_type": "code",
   "execution_count": null,
   "metadata": {},
   "outputs": [],
   "source": []
  }
 ],
 "metadata": {
  "kernelspec": {
   "display_name": "Python 3",
   "language": "python",
   "name": "python3"
  },
  "language_info": {
   "codemirror_mode": {
    "name": "ipython",
    "version": 3
   },
   "file_extension": ".py",
   "mimetype": "text/x-python",
   "name": "python",
   "nbconvert_exporter": "python",
   "pygments_lexer": "ipython3",
   "version": "3.8.5"
  }
 },
 "nbformat": 4,
 "nbformat_minor": 4
}
