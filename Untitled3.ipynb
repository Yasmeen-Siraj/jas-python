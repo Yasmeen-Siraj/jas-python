{
 "cells": [
  {
   "cell_type": "code",
   "execution_count": 78,
   "metadata": {},
   "outputs": [],
   "source": [
    "import urllib.request\n",
    "import requests\n",
    "from bs4 import BeautifulSoup as bs\n",
    "import re\n",
    "import pandas as pd\n",
    "\n",
    "from selenium import webdriver\n",
    "from selenium.webdriver.common.keys import Keys\n",
    "from selenium.webdriver.support import expected_conditions as EC\n",
    "from selenium.webdriver.common.by import By\n",
    "from selenium.webdriver.support.wait import WebDriverWait"
   ]
  },
  {
   "cell_type": "code",
   "execution_count": 79,
   "metadata": {},
   "outputs": [],
   "source": [
    "#page = urllib.request.urlopen(\"http://www.jodidb.org/TableViewer/tableView.aspx?ReportId=93906\")\n",
    "#soup = bs(page)\n",
    "#print(soup.prettify())"
   ]
  },
  {
   "cell_type": "code",
   "execution_count": 80,
   "metadata": {},
   "outputs": [],
   "source": [
    "#body = soup.find(\"body\")\n",
    "#print(body.prettify())"
   ]
  },
  {
   "cell_type": "code",
   "execution_count": 81,
   "metadata": {},
   "outputs": [],
   "source": [
    "#main_table = body.find(\"table\", attrs={\"id\" : \"MainTable\"})\n",
    "#print(main_table.prettify())"
   ]
  },
  {
   "cell_type": "code",
   "execution_count": 82,
   "metadata": {},
   "outputs": [],
   "source": [
    "#col_header = main_table.find_all(\"th\")\n",
    "#print(col_header)"
   ]
  },
  {
   "cell_type": "code",
   "execution_count": 83,
   "metadata": {
    "scrolled": false
   },
   "outputs": [],
   "source": [
    "#table_headers = soup.body.findAll('tbody')\n",
    "#function_names= re.findall('id=\"a0', str(table_headers))\n",
    "#function_names = soup.find_all(\"th\", attrs={\"id\": \"a0\"})\n",
    "#print(table_headers)\n"
   ]
  },
  {
   "cell_type": "code",
   "execution_count": 84,
   "metadata": {},
   "outputs": [],
   "source": [
    "#soup = bs(page, 'html.parser')"
   ]
  },
  {
   "cell_type": "code",
   "execution_count": 85,
   "metadata": {},
   "outputs": [],
   "source": [
    "#content = soup.find_all('th' , attrs={\"class\": \"TVItemColHeader\"})\n",
    "#soup.find_all(\"p\", attrs={\"id\": \"paragraph-id\"})\n",
    "#print(content)"
   ]
  },
  {
   "cell_type": "code",
   "execution_count": 86,
   "metadata": {},
   "outputs": [],
   "source": [
    "#article = for i in content.findAll('th'):\n",
    " \n",
    "    #article = article + '' + i.text\n"
   ]
  },
  {
   "cell_type": "code",
   "execution_count": 87,
   "metadata": {
    "scrolled": false
   },
   "outputs": [],
   "source": [
    "chrome_path = r\"C:/Program Files (x86)/chromedriver.exe\"\n",
    "driver = webdriver.Chrome(chrome_path)\n",
    "driver.get(\"http://www.jodidb.org/TableViewer/tableView.aspx?ReportId=93906\")\n",
    "\n",
    "\n",
    "soup = bs(driver.page_source,'html')\n",
    "\n",
    "tables = soup.find_all(\"table\", attrs={\"id\": \"DataTable\"})\n",
    "tbody = soup.find_all(\"tbody\", attrs={\"class\": \"DataTable\"})\n",
    "\n",
    "#print(tbody)\n",
    "\n",
    "\n",
    "\n",
    "#page = requests.get(\"http://www.jodidb.org/TableViewer/tableView.aspx?ReportId=93906\")\n",
    "#soup = bs(page.content, 'html.parser')\n",
    "#tables = soup.find_all(\"table\", attrs={\"id\": \"DataTable\"})\n"
   ]
  },
  {
   "cell_type": "code",
   "execution_count": 90,
   "metadata": {},
   "outputs": [
    {
     "name": "stdout",
     "output_type": "stream",
     "text": [
      "<selenium.webdriver.remote.webelement.WebElement (session=\"e77d04bdf606374d7d59c491fef16ac4\", element=\"93db6da9-4034-40f3-b8c1-0b5a28bbfe75\")>\n"
     ]
    }
   ],
   "source": [
    "cols =driver.find_element_by_tag_name('th')\n",
    "print(cols)"
   ]
  },
  {
   "cell_type": "code",
   "execution_count": null,
   "metadata": {},
   "outputs": [],
   "source": []
  }
 ],
 "metadata": {
  "kernelspec": {
   "display_name": "Python 3",
   "language": "python",
   "name": "python3"
  },
  "language_info": {
   "codemirror_mode": {
    "name": "ipython",
    "version": 3
   },
   "file_extension": ".py",
   "mimetype": "text/x-python",
   "name": "python",
   "nbconvert_exporter": "python",
   "pygments_lexer": "ipython3",
   "version": "3.8.5"
  }
 },
 "nbformat": 4,
 "nbformat_minor": 4
}
